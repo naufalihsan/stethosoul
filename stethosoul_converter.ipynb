{
 "cells": [
  {
   "cell_type": "code",
   "execution_count": 186,
   "id": "2f505699",
   "metadata": {},
   "outputs": [],
   "source": [
    "import re\n",
    "import os\n",
    "import glob\n",
    "import shutil\n",
    "import time\n",
    "import subprocess\n",
    "\n",
    "import pandas as pd\n",
    "import numpy as np\n",
    "\n",
    "from nltk.tokenize import word_tokenize, sent_tokenize"
   ]
  },
  {
   "cell_type": "code",
   "execution_count": 2,
   "id": "d27ff37f",
   "metadata": {},
   "outputs": [],
   "source": [
    "pd.set_option('display.max_columns', None)\n",
    "pd.set_option('display.max_rows', None)\n",
    "pd.set_option('display.max_colwidth', 255)"
   ]
  },
  {
   "cell_type": "markdown",
   "id": "c14e8859",
   "metadata": {},
   "source": [
    "#### Download Patient Dataset"
   ]
  },
  {
   "cell_type": "code",
   "execution_count": 3,
   "id": "2753d364",
   "metadata": {},
   "outputs": [],
   "source": [
    "patient_df = pd.read_csv('./out/metadata/patients.csv')"
   ]
  },
  {
   "cell_type": "code",
   "execution_count": 4,
   "id": "b1e5bd6e",
   "metadata": {},
   "outputs": [],
   "source": [
    "patient_df = patient_df[['Patient', 'Link Drive']]"
   ]
  },
  {
   "cell_type": "code",
   "execution_count": null,
   "id": "229a3392",
   "metadata": {},
   "outputs": [],
   "source": [
    "for index, row in patient_df.iterrows():\n",
    "    subprocess.run([\"./stethosoul_downloader.sh\", row['Patient'], row['Link Drive']], capture_output=False)"
   ]
  },
  {
   "cell_type": "markdown",
   "id": "e2865662",
   "metadata": {},
   "source": [
    "#### Download ControlDataset"
   ]
  },
  {
   "cell_type": "code",
   "execution_count": 5,
   "id": "6f2f6193",
   "metadata": {},
   "outputs": [],
   "source": [
    "control_df = pd.read_csv('./out/metadata/controls.csv')"
   ]
  },
  {
   "cell_type": "code",
   "execution_count": 6,
   "id": "9da0170e",
   "metadata": {},
   "outputs": [],
   "source": [
    "control_df = control_df[['Patient ID', 'Link']]"
   ]
  },
  {
   "cell_type": "code",
   "execution_count": 446,
   "id": "ac5d535a",
   "metadata": {},
   "outputs": [
    {
     "name": "stdout",
     "output_type": "stream",
     "text": [
      "#!/bin/bash\r\n",
      "\r\n",
      "# Check if exactly two parameters are provided\r\n",
      "if [ \"$#\" -ne 2 ]; then\r\n",
      "  echo \"Please provide <patientCode> <driveUrl>\"\r\n",
      "  exit 1\r\n",
      "fi\r\n",
      "\r\n",
      "patientCode=\"$1\"\r\n",
      "\r\n",
      "driveUrl=\"$2\"\r\n",
      "\r\n",
      "targetFolder=\"/Users/naufalihsan/Downloads/stethosoul_clean/controls/$patientCode\"\r\n",
      "\r\n",
      "gdown $driveUrl -O $targetFolder --folder\r\n"
     ]
    }
   ],
   "source": [
    "!cat ./stethosoul_downloader.sh"
   ]
  },
  {
   "cell_type": "code",
   "execution_count": null,
   "id": "a9325934",
   "metadata": {},
   "outputs": [],
   "source": [
    "for index, row in control_df.iterrows():\n",
    "    subprocess.run([\"./stethosoul_downloader.sh\", row['Patient ID'], row['Link']], capture_output=False)"
   ]
  },
  {
   "cell_type": "markdown",
   "id": "a9c6ef43",
   "metadata": {},
   "source": [
    "#### Fn Utils"
   ]
  },
  {
   "cell_type": "code",
   "execution_count": 20,
   "id": "7508e94f",
   "metadata": {},
   "outputs": [],
   "source": [
    "class Patient:\n",
    "    def __init__(self, patient_code):\n",
    "        self.patient_code = patient_code\n",
    "        \n",
    "    def get_folder(self):\n",
    "        return f'./patients/{self.patient_code}'\n",
    "    \n",
    "    def get_out_file(self):\n",
    "        return f'./out/patients/{self.patient_code}.json'"
   ]
  },
  {
   "cell_type": "code",
   "execution_count": 21,
   "id": "35025226",
   "metadata": {},
   "outputs": [],
   "source": [
    "class Control:\n",
    "    def __init__(self, patient_code):\n",
    "        self.patient_code = patient_code\n",
    "        \n",
    "    def get_folder(self):\n",
    "        return f'./controls/{self.patient_code}'\n",
    "    \n",
    "    def get_out_file(self):\n",
    "        return f'./out/controls/{self.patient_code}.json'"
   ]
  },
  {
   "cell_type": "code",
   "execution_count": 339,
   "id": "c548c8ad",
   "metadata": {},
   "outputs": [],
   "source": [
    "def normalize_text(text):\n",
    "    return text.replace('\\n', '')"
   ]
  },
  {
   "cell_type": "code",
   "execution_count": 9,
   "id": "71276dc5",
   "metadata": {},
   "outputs": [],
   "source": [
    "def get_topic(text):\n",
    "    topic = int(text.split('-')[2])\n",
    "    return f'T{topic}'"
   ]
  },
  {
   "cell_type": "code",
   "execution_count": 21,
   "id": "838cb509",
   "metadata": {},
   "outputs": [],
   "source": [
    "def get_label(text):\n",
    "    try:\n",
    "        if '_' in text:\n",
    "            delim = '_'\n",
    "        else:\n",
    "            delim = '-'\n",
    "        \n",
    "        return int(text.split(delim)[0])\n",
    "    except:\n",
    "        return 0"
   ]
  },
  {
   "cell_type": "code",
   "execution_count": 178,
   "id": "cf03b389",
   "metadata": {},
   "outputs": [],
   "source": [
    "def is_label(text):\n",
    "    return re.match('^\\d+[-_][A-Za-z\\s]*$', text)"
   ]
  },
  {
   "cell_type": "code",
   "execution_count": 175,
   "id": "e166a018",
   "metadata": {},
   "outputs": [],
   "source": [
    "def format_notula(patient):\n",
    "    data = []\n",
    "    \n",
    "    encodings = ['utf-8', 'utf-16', 'utf-16-le']\n",
    "    \n",
    "    for fn in sorted(glob.glob(f'{patient.get_folder()}/*.txt')):\n",
    "        for encoding in encodings:\n",
    "            try:\n",
    "                with open(fn, encoding=encoding, errors='ignore') as f:\n",
    "                    lines = f.readlines()\n",
    "                    filtered_list = list(filter(lambda line: line and line.strip(), lines))\n",
    "                    modified_list = list(map(lambda text: normalize_text(text), filtered_list))        \n",
    "\n",
    "                    data.append({\n",
    "                        'patient': patient.patient_code,\n",
    "                        'topic': get_topic(modified_list[0]),\n",
    "                        'label': get_label(modified_list[1]),\n",
    "                        'text': ''.join(modified_list[3:]) if len(modified_list) > 2 else None\n",
    "                    })\n",
    "                    \n",
    "                    break\n",
    "            except:\n",
    "                pass\n",
    "\n",
    "        \n",
    "    df = pd.DataFrame.from_dict(data)\n",
    "    df.to_json(patient.get_out_file())"
   ]
  },
  {
   "cell_type": "code",
   "execution_count": 396,
   "id": "f3c33a9a",
   "metadata": {},
   "outputs": [],
   "source": [
    "def format_paragraph(patient):\n",
    "    data = []\n",
    "    \n",
    "    encodings = ['utf-8', 'utf-16', 'utf-16-le']\n",
    "    \n",
    "    for fn in sorted(glob.glob(f'{patient.get_folder()}/*.txt')):\n",
    "        with open(fn, encoding=encodings[0], errors='ignore') as f:\n",
    "            lines = f.readlines()\n",
    "            filtered_list = list(filter(lambda line: line and line.strip(), lines))\n",
    "            modified_list = list(map(lambda text: normalize_text(text), filtered_list))\n",
    "\n",
    "            # TODO: Optimize read paragraphs\n",
    "    \n",
    "    df = pd.DataFrame.from_dict(data)\n",
    "    df.to_json(patient.get_out_file())"
   ]
  },
  {
   "cell_type": "code",
   "execution_count": 23,
   "id": "848ed1b8",
   "metadata": {},
   "outputs": [],
   "source": [
    "def convert_to_json(patient, format=None):\n",
    "    try:\n",
    "        if not format or format == 'notula':\n",
    "            format_notula(patient)\n",
    "        elif format == 'paragraph':\n",
    "            format_paragraph(patient)\n",
    "    except Exception as e:\n",
    "        print(e)"
   ]
  },
  {
   "cell_type": "markdown",
   "id": "3a56e15e",
   "metadata": {},
   "source": [
    "#### Convert Patients Data to JSON"
   ]
  },
  {
   "cell_type": "code",
   "execution_count": 454,
   "id": "e6640a53",
   "metadata": {},
   "outputs": [],
   "source": [
    "meta = pd.read_json('./out/metadata/patients.json')"
   ]
  },
  {
   "cell_type": "code",
   "execution_count": 513,
   "id": "b00a84f3",
   "metadata": {},
   "outputs": [],
   "source": [
    "exclude_mislabeled = {\n",
    "    'ED24', \n",
    "    'AK23', \n",
    "    'AQ19', \n",
    "    'YG78', \n",
    "    'TQ36', \n",
    "    'PK56', \n",
    "    'QX63', \n",
    "    'LC01', \n",
    "    'HD95',\n",
    "}"
   ]
  },
  {
   "cell_type": "code",
   "execution_count": 514,
   "id": "01021436",
   "metadata": {},
   "outputs": [],
   "source": [
    "exclude_paragraph = {\n",
    "    'KY48', # utf-8\n",
    "    'ZN39', # utf-8\n",
    "    'DC60', # utf-16-le\n",
    "    'AK93', # utf-16-le\n",
    "    'WK67', # utf-16-le\n",
    "    'PM27', # utf-16-le\n",
    "    'MB63', # utf-16-le\n",
    "    'IT99', # utf-16-le\n",
    "    'PJ95', # utf-16-le\n",
    "    'WJ82', # utf-16-le\n",
    "    'NH78', # utf-8\n",
    "    'GR42', # utf-16-le\n",
    "    'MC64', # utf-8\n",
    "    'ER54', # utf-8\n",
    "    'QM18', # utf-16-le\n",
    "    'KM01', # utf-16-le\n",
    "    'CG88', # utf-16-le\n",
    "    'DE79', # utf-16-le\n",
    "    'DB90', # utf-16-le\n",
    "    'IB97', # utf-16-le\n",
    "    'UR50', # utf-16-le\n",
    "    'FC59', # utf-8\n",
    "    'MU30', # utf-16-le\n",
    "    'QR25', # utf-16-le\n",
    "    'FN52', # utf-8\n",
    "}"
   ]
  },
  {
   "cell_type": "code",
   "execution_count": 515,
   "id": "3aee2524",
   "metadata": {},
   "outputs": [],
   "source": [
    "exclude_split = {\n",
    "    'FS73', # utf-8\n",
    "    'RR54', # utf-8\n",
    "    'TS31', # utf-8\n",
    "    'DE60', # utf-8\n",
    "}"
   ]
  },
  {
   "cell_type": "code",
   "execution_count": 511,
   "id": "641642cb",
   "metadata": {},
   "outputs": [],
   "source": [
    "exclusion_lists = [exclude_paragraph, exclude_mislabeled, exclude_split]"
   ]
  },
  {
   "cell_type": "code",
   "execution_count": null,
   "id": "36c1f69d",
   "metadata": {},
   "outputs": [],
   "source": [
    "for index, row in patient_df.iterrows():\n",
    "    patient = Patient(row['Patient'])\n",
    "    \n",
    "    if not any(patient.patient_code in exclusion_list for exclusion_list in exclusion_lists):\n",
    "        convert_to_json(patient)\n",
    "\n",
    "        try:\n",
    "            out = pd.read_json(patient.get_out_file())\n",
    "            out_labels = out['label'].tolist()\n",
    "        except:\n",
    "            print(patient.patient_code)\n",
    "            raise Exception\n",
    "            \n",
    "            \n",
    "        # metadata checker\n",
    "        query = meta.query(f'Patient == \"{patient.patient_code}\"').filter(regex=r'^T\\d+', axis=1)\n",
    "        csv_labels = query.iloc[0].tolist()\n",
    "\n",
    "        if not out_labels == csv_labels:\n",
    "            diff_indices = [f'T{i+1}' for i, (x, y) in enumerate(zip(out_labels, csv_labels)) if x != y]\n",
    "            print(f'{patient.patient_code}', diff_indices)"
   ]
  },
  {
   "cell_type": "markdown",
   "id": "f83d9449",
   "metadata": {},
   "source": [
    "#### Insert Mislabeled Data"
   ]
  },
  {
   "cell_type": "code",
   "execution_count": 14,
   "id": "afbe017f",
   "metadata": {},
   "outputs": [],
   "source": [
    "manual_df = pd.read_csv('./out/manual/D1_KNK_Manual [ML].csv')"
   ]
  },
  {
   "cell_type": "code",
   "execution_count": 18,
   "id": "34fa7af2",
   "metadata": {},
   "outputs": [],
   "source": [
    "patient_codes = manual_df['patient'].unique().tolist()"
   ]
  },
  {
   "cell_type": "code",
   "execution_count": 23,
   "id": "6c643d40",
   "metadata": {},
   "outputs": [
    {
     "data": {
      "text/plain": [
       "['ED24', 'AK23', 'AQ19', 'YG78', 'TQ36', 'PK56', 'QX63', 'LC01', 'HD95']"
      ]
     },
     "execution_count": 23,
     "metadata": {},
     "output_type": "execute_result"
    }
   ],
   "source": [
    "patient_codes"
   ]
  },
  {
   "cell_type": "code",
   "execution_count": 22,
   "id": "b7f51ab2",
   "metadata": {},
   "outputs": [],
   "source": [
    "for patient_code in patient_codes:\n",
    "    patient = Patient(patient_code)\n",
    "    \n",
    "    patient_df = manual_df.query(f'patient == \"{patient_code}\"')\n",
    "    patient_df.to_json(patient.get_out_file())"
   ]
  },
  {
   "cell_type": "markdown",
   "id": "6555998c",
   "metadata": {},
   "source": [
    "#### Convert Controls Data to JSON"
   ]
  },
  {
   "cell_type": "code",
   "execution_count": 421,
   "id": "b951373b",
   "metadata": {},
   "outputs": [],
   "source": [
    "meta = pd.read_csv('./out/metadata/controls.csv')"
   ]
  },
  {
   "cell_type": "code",
   "execution_count": 449,
   "id": "5b90ff0c",
   "metadata": {},
   "outputs": [],
   "source": [
    "exclude_mislabeled = {\n",
    "    'JR64', # label on filename\n",
    "    'GC25', # label on filename\n",
    "    'ED91', # label on filename\n",
    "    \n",
    "    'SW53', # label using pattern topic_label\n",
    "    'TO27', # label using pattern topic_label\n",
    "    'AG18', # label using pattern topic_label\n",
    "    'NF75', # label using pattern topic_label\n",
    "    'XM81', # label using pattern topic_label\n",
    "    'PV79', # label using pattern topic_label\n",
    "    'GB10', # label using pattern topic_label\n",
    "    'VV19', # label using pattern topic_label\n",
    "    'TK91', # label using pattern topic_label\n",
    "    'CV83', # label using pattern topic_label\n",
    "    'SU94', # label using pattern topic_label\n",
    "    'KY13', # label using pattern topic_label\n",
    "    'NC09', # label using pattern topic_label\n",
    "    'OY45', # label using pattern topic_label\n",
    "    'GI86', # label using pattern topic_label\n",
    "}"
   ]
  },
  {
   "cell_type": "code",
   "execution_count": 451,
   "id": "a7c39bd5",
   "metadata": {},
   "outputs": [],
   "source": [
    "for index, row in control_df.iterrows():\n",
    "    patient = Control(row['Patient ID'])\n",
    "    \n",
    "    if patient.patient_code not in exclude_error:\n",
    "        convert_to_json(patient)\n",
    "\n",
    "        try:\n",
    "            out = pd.read_json(patient.get_out_file())\n",
    "            out_labels = out['label'].tolist()\n",
    "        except:\n",
    "            print(patient.patient_code)\n",
    "            raise Exception\n",
    "\n",
    "\n",
    "        # metadata checker\n",
    "        query = meta.query(f'`Patient ID` == \"{patient.patient_code}\"').filter(regex=r'^T\\d+', axis=1)\n",
    "        csv_labels = query.iloc[0].tolist()\n",
    "\n",
    "        if not out_labels == csv_labels:\n",
    "            diff_indices = [f'T{i+1}' for i, (x, y) in enumerate(zip(out_labels, csv_labels)) if x != y]\n",
    "            print(f'{patient.patient_code}', diff_indices)"
   ]
  },
  {
   "cell_type": "markdown",
   "id": "933255dc",
   "metadata": {},
   "source": [
    "#### Combine Patients Data"
   ]
  },
  {
   "cell_type": "code",
   "execution_count": 195,
   "id": "ae392b83",
   "metadata": {},
   "outputs": [],
   "source": [
    "combined_df = pd.DataFrame({})\n",
    "\n",
    "for fn in sorted(glob.glob('./out/patients/*.json')):\n",
    "    df = pd.read_json(fn)\n",
    "    combined_df = pd.concat([df, combined_df], ignore_index=True)\n",
    "\n",
    "combined_df.to_json('./data/multi_class/patients.json')"
   ]
  },
  {
   "cell_type": "markdown",
   "id": "d1ac6cf5",
   "metadata": {},
   "source": [
    "#### Combine Controls Data"
   ]
  },
  {
   "cell_type": "code",
   "execution_count": 196,
   "id": "d80b20ab",
   "metadata": {},
   "outputs": [],
   "source": [
    "combined_df = pd.DataFrame({})\n",
    "\n",
    "for fn in sorted(glob.glob('./out/controls/*.json')):\n",
    "    df = pd.read_json(fn)\n",
    "    combined_df = pd.concat([df, combined_df], ignore_index=True)\n",
    "\n",
    "combined_df.to_json('./data/multi_class/controls.json')"
   ]
  },
  {
   "cell_type": "markdown",
   "id": "7498e878",
   "metadata": {},
   "source": [
    "#### Meta Data Patients"
   ]
  },
  {
   "cell_type": "code",
   "execution_count": 197,
   "id": "55d5e703",
   "metadata": {},
   "outputs": [],
   "source": [
    "combined_df = pd.read_json('./data/multi_class/patients.json')"
   ]
  },
  {
   "cell_type": "code",
   "execution_count": 198,
   "id": "9876645e",
   "metadata": {},
   "outputs": [],
   "source": [
    "def count_filler_words(text):\n",
    "    return len(re.findall('\\[.*?\\]', str(text)))"
   ]
  },
  {
   "cell_type": "code",
   "execution_count": 199,
   "id": "57de9cef",
   "metadata": {},
   "outputs": [],
   "source": [
    "def remove_invalid_sentence(text):\n",
    "    sentences = re.split(r'([.!?]+)', text)\n",
    "    word_pattern = r'\\b\\w+\\b'\n",
    "\n",
    "    filtered_sentences = []\n",
    "    \n",
    "    for i in range(0, len(sentences), 2):\n",
    "        sentence = sentences[i].strip()\n",
    "        punctuation = sentences[i + 1] if i + 1 < len(sentences) else ''\n",
    "        \n",
    "        if len(re.findall(word_pattern, sentence)) >= 2:\n",
    "            filtered_sentences.append(sentence + punctuation + ' ')\n",
    "\n",
    "    \n",
    "    return ''.join(filtered_sentences)"
   ]
  },
  {
   "cell_type": "code",
   "execution_count": 209,
   "id": "7b295c7d",
   "metadata": {},
   "outputs": [],
   "source": [
    "def clean_text(text):\n",
    "    cleaned_text = re.sub(r'\\[.*?\\]', ' ', str(text))\n",
    "    cleaned_text = remove_invalid_sentence(cleaned_text)\n",
    "    cleaned_text = re.sub(r'\\s+([.,!?;])', r'\\1', cleaned_text)\n",
    "    cleaned_text = re.sub(r'[^a-zA-Z0-9\\s.,!?;]', ' ', cleaned_text)\n",
    "    cleaned_text = re.sub(r'\\s+', ' ', cleaned_text)\n",
    "    cleaned_text = cleaned_text.lower()\n",
    "    cleaned_text = cleaned_text.strip()\n",
    "    \n",
    "    return cleaned_text"
   ]
  },
  {
   "cell_type": "code",
   "execution_count": 210,
   "id": "91e4fb91",
   "metadata": {},
   "outputs": [],
   "source": [
    "def extract_metadata(df):\n",
    "    meta_df = df.copy(deep=True)\n",
    "    \n",
    "    meta_df['text'] = meta_df['text'].apply(lambda x: clean_text(x))\n",
    "    meta_df['filler_words'] = meta_df['text'].apply(lambda x: count_filler_words(x))\n",
    "    meta_df['num_sentences'] = meta_df['text'].apply(lambda x: len(sent_tokenize(x)))\n",
    "    meta_df['num_words'] = meta_df['text'].apply(lambda x: len(word_tokenize(x)))\n",
    "    \n",
    "    meta_df.drop_duplicates(subset='text', keep=False, inplace=True)\n",
    "    \n",
    "    return meta_df"
   ]
  },
  {
   "cell_type": "code",
   "execution_count": 211,
   "id": "3adbc9f9",
   "metadata": {},
   "outputs": [],
   "source": [
    "meta_df = extract_metadata(combined_df)"
   ]
  },
  {
   "cell_type": "code",
   "execution_count": 212,
   "id": "312f0e22",
   "metadata": {},
   "outputs": [],
   "source": [
    "meta_df.to_json('./data/multi_class/patients_clean.json')"
   ]
  },
  {
   "cell_type": "markdown",
   "id": "0d00e879",
   "metadata": {},
   "source": [
    "#### Meta Data Controls"
   ]
  },
  {
   "cell_type": "code",
   "execution_count": 213,
   "id": "2dc4306a",
   "metadata": {},
   "outputs": [],
   "source": [
    "combined_df = pd.read_json('./data/multi_class/controls.json')"
   ]
  },
  {
   "cell_type": "code",
   "execution_count": 214,
   "id": "1baee893",
   "metadata": {},
   "outputs": [],
   "source": [
    "meta_df = extract_metadata(combined_df)"
   ]
  },
  {
   "cell_type": "code",
   "execution_count": 215,
   "id": "0a4ed47a",
   "metadata": {},
   "outputs": [],
   "source": [
    "meta_df.to_json('./data/multi_class/controls_clean.json')"
   ]
  },
  {
   "cell_type": "markdown",
   "id": "40e7216f",
   "metadata": {},
   "source": [
    "#### Convert Patients to binary class"
   ]
  },
  {
   "cell_type": "code",
   "execution_count": 216,
   "id": "5cafddd1",
   "metadata": {},
   "outputs": [],
   "source": [
    "def get_binary_class(label):\n",
    "    return 1 if label == 1 else 2"
   ]
  },
  {
   "cell_type": "code",
   "execution_count": 217,
   "id": "85d6ead0",
   "metadata": {},
   "outputs": [],
   "source": [
    "combined_df = pd.read_json('./data/multi_class/patients_clean.json')"
   ]
  },
  {
   "cell_type": "code",
   "execution_count": 218,
   "id": "dde9f1a3",
   "metadata": {},
   "outputs": [],
   "source": [
    "combined_df['label'] = combined_df['label'].apply(lambda x: get_binary_class(x))"
   ]
  },
  {
   "cell_type": "code",
   "execution_count": 219,
   "id": "0ea6a312",
   "metadata": {},
   "outputs": [],
   "source": [
    "combined_df.to_json('./data/binary_class/patients_clean.json')"
   ]
  },
  {
   "cell_type": "markdown",
   "id": "3d35981b",
   "metadata": {},
   "source": [
    "#### Convert Controls to binary class"
   ]
  },
  {
   "cell_type": "code",
   "execution_count": 221,
   "id": "d0944bdd",
   "metadata": {},
   "outputs": [],
   "source": [
    "combined_df = pd.read_json('./data/multi_class/controls_clean.json')"
   ]
  },
  {
   "cell_type": "code",
   "execution_count": 222,
   "id": "31791bbf",
   "metadata": {},
   "outputs": [],
   "source": [
    "combined_df['label'] = combined_df['label'].apply(lambda x: get_binary_class(x))"
   ]
  },
  {
   "cell_type": "code",
   "execution_count": 223,
   "id": "a3fcdb79",
   "metadata": {},
   "outputs": [],
   "source": [
    "combined_df.to_json('./data/binary_class/controls_clean.json')"
   ]
  }
 ],
 "metadata": {
  "kernelspec": {
   "display_name": "Python 3 (ipykernel)",
   "language": "python",
   "name": "python3"
  },
  "language_info": {
   "codemirror_mode": {
    "name": "ipython",
    "version": 3
   },
   "file_extension": ".py",
   "mimetype": "text/x-python",
   "name": "python",
   "nbconvert_exporter": "python",
   "pygments_lexer": "ipython3",
   "version": "3.10.12"
  }
 },
 "nbformat": 4,
 "nbformat_minor": 5
}
